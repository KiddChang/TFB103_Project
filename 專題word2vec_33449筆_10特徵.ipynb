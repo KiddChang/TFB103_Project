{
 "cells": [
  {
   "cell_type": "code",
   "execution_count": null,
   "id": "b77f9945",
   "metadata": {},
   "outputs": [],
   "source": [
    "import pandas as pd\n",
    "import logging\n",
    "from sqlalchemy import create_engine\n",
    "import jieba"
   ]
  },
  {
   "cell_type": "code",
   "execution_count": null,
   "id": "5d67b413",
   "metadata": {},
   "outputs": [],
   "source": [
    "restaurant_df=pd.read_csv(\"C:/Users/kiddc/jupyter_資料/推薦餐廳_有加地區_且有數值.csv\")"
   ]
  },
  {
   "cell_type": "code",
   "execution_count": null,
   "id": "8b5269c9",
   "metadata": {},
   "outputs": [],
   "source": [
    "restaurant_df=restaurant_df.drop('Unnamed: 0',axis=1)"
   ]
  },
  {
   "cell_type": "code",
   "execution_count": null,
   "id": "ebd564f5",
   "metadata": {},
   "outputs": [],
   "source": [
    "restaurant_df['res_name']=restaurant_df['res_name'].str.replace(' ','')"
   ]
  },
  {
   "cell_type": "code",
   "execution_count": null,
   "id": "1ddc2017",
   "metadata": {},
   "outputs": [],
   "source": [
    "restaurant_df"
   ]
  },
  {
   "cell_type": "code",
   "execution_count": null,
   "id": "d77e7005",
   "metadata": {},
   "outputs": [],
   "source": [
    "restaurant_df['price']=pd.qcut(restaurant_df['price'], 7,labels=['超實惠','平民','實惠','普通','貴','高價','高端'])\n",
    "restaurant_df"
   ]
  },
  {
   "cell_type": "code",
   "execution_count": null,
   "id": "355542aa",
   "metadata": {},
   "outputs": [],
   "source": [
    "restaurant_df['score']=pd.qcut(restaurant_df['score'], 8,labels=['難吃','差','普通','好吃','美味','一星級','二星級','三星級'])\n",
    "restaurant_df"
   ]
  },
  {
   "cell_type": "code",
   "execution_count": null,
   "id": "eac9861f",
   "metadata": {},
   "outputs": [],
   "source": [
    "# 建立function作jieba分詞\n",
    "def lcut(article):\n",
    "    segment=[]\n",
    "    segs = jieba.lcut(article) # jiaba.lcut()  \n",
    "    for seg in segs:\n",
    "        if len(seg)>1 and seg!='\\r\\n':\n",
    "            segment.append(seg)\n",
    "    return segment"
   ]
  },
  {
   "cell_type": "code",
   "execution_count": null,
   "id": "f04939c8",
   "metadata": {},
   "outputs": [],
   "source": [
    "# 基於TextRank算法的關鍵詞抽取(僅名詞、地名、)\n",
    "import jieba.analyse as analyse\n",
    "count = 0\n",
    "restaurant_df['feature'] = restaurant_df.content.apply(lcut)\\\n",
    "                .apply(lambda x : \" \".join(x))\\\n",
    "                .apply(lambda x: analyse.textrank(x, topK=10, withWeight=False, allowPOS=('n','a','an')))\n",
    "restaurant_df"
   ]
  },
  {
   "cell_type": "code",
   "execution_count": null,
   "id": "52898333",
   "metadata": {},
   "outputs": [],
   "source": [
    "df1=restaurant_df.drop(['Unnamed: 0','res_id','address','content','clean_add_num'],axis=1)#刪除不需要的欄位"
   ]
  },
  {
   "cell_type": "code",
   "execution_count": null,
   "id": "eca074db",
   "metadata": {},
   "outputs": [],
   "source": [
    "df1.to_csv(\"11_28_33449_10特徵在一欄(去些欄跑word2vec).txt\",sep='\\t',index=False) #存檔成txt"
   ]
  },
  {
   "cell_type": "code",
   "execution_count": null,
   "id": "3b3a8865",
   "metadata": {},
   "outputs": [],
   "source": [
    "df2=pd.read_csv('C:/Users/kiddc/jupyter_程式/11_28_33449_10特徵在一欄.csv') #測試是否存好檔"
   ]
  },
  {
   "cell_type": "code",
   "execution_count": null,
   "id": "3095d365",
   "metadata": {},
   "outputs": [],
   "source": [
    "df2"
   ]
  },
  {
   "cell_type": "code",
   "execution_count": null,
   "id": "651b772a",
   "metadata": {},
   "outputs": [],
   "source": [
    "from gensim.models import word2vec"
   ]
  },
  {
   "cell_type": "code",
   "execution_count": null,
   "id": "a87f7569",
   "metadata": {},
   "outputs": [],
   "source": [
    "jieba.set_dictionary('C:/Users/kiddc/OneDrive/桌面/tibame/Textming/jiebaData/dict.txt.big')"
   ]
  },
  {
   "cell_type": "code",
   "execution_count": null,
   "id": "f8b66591",
   "metadata": {},
   "outputs": [],
   "source": [
    "sentences= word2vec.LineSentence('11_28_33449_10特徵在一欄(去些欄跑word2vec).txt')  #使用txt檔去訓練模型"
   ]
  },
  {
   "cell_type": "code",
   "execution_count": null,
   "id": "245d8937",
   "metadata": {},
   "outputs": [],
   "source": [
    "import time\n",
    "start_time = time.time()\n",
    "model =word2vec.Word2Vec(sentences, sg=3,vector_size=250, window=10,workers=3, min_count=1)\n",
    "print(\"-----Spend %s Second-----\" %(time.time() - start_time))"
   ]
  },
  {
   "cell_type": "code",
   "execution_count": null,
   "id": "3443e5ee",
   "metadata": {},
   "outputs": [],
   "source": [
    "model"
   ]
  },
  {
   "cell_type": "code",
   "execution_count": null,
   "id": "e55f8a58",
   "metadata": {},
   "outputs": [],
   "source": [
    "model.save('11_28_33449_10特徵在一欄(去些欄跑word2vec).model')"
   ]
  },
  {
   "cell_type": "code",
   "execution_count": null,
   "id": "877dd824",
   "metadata": {},
   "outputs": [],
   "source": [
    "model.corpus_total_words"
   ]
  },
  {
   "cell_type": "code",
   "execution_count": null,
   "id": "1b897f28",
   "metadata": {},
   "outputs": [],
   "source": [
    "model.wv.most_similar('舒果(板橋雙十店)')"
   ]
  },
  {
   "cell_type": "code",
   "execution_count": null,
   "id": "4eed6264",
   "metadata": {},
   "outputs": [],
   "source": [
    "model.wv.similarity('款待手路菜','北平半畝園')"
   ]
  },
  {
   "cell_type": "code",
   "execution_count": null,
   "id": "9cb2d947",
   "metadata": {},
   "outputs": [],
   "source": [
    "model.wv.most_similar('小貴族灸燒牛排')"
   ]
  },
  {
   "cell_type": "code",
   "execution_count": null,
   "id": "51cc5a6c",
   "metadata": {},
   "outputs": [],
   "source": []
  }
 ],
 "metadata": {
  "kernelspec": {
   "display_name": "Python 3 (ipykernel)",
   "language": "python",
   "name": "python3"
  },
  "language_info": {
   "codemirror_mode": {
    "name": "ipython",
    "version": 3
   },
   "file_extension": ".py",
   "mimetype": "text/x-python",
   "name": "python",
   "nbconvert_exporter": "python",
   "pygments_lexer": "ipython3",
   "version": "3.8.12"
  }
 },
 "nbformat": 4,
 "nbformat_minor": 5
}
